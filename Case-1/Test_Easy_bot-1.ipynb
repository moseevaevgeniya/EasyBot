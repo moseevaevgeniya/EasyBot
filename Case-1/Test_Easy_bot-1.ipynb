{
 "cells": [
  {
   "cell_type": "markdown",
   "id": "0d8da6fe",
   "metadata": {},
   "source": [
    "# Задание 1. Анализ данных и SQL-запросы"
   ]
  },
  {
   "cell_type": "markdown",
   "id": "e5c05e3b",
   "metadata": {},
   "source": [
    "**Есть следующие датасеты c данными о продажах в онлайн-магазине в формате csv файла:**   \n",
    "\n",
    "- Таблица `products` (товары), с полями:  \n",
    "`product_id`   \n",
    "`category_id`  \n",
    "`product_name`\t  \n",
    "`stock`  \n",
    "\n",
    "- Таблица `orders` (заказы) с полями:  \n",
    "`order_id`  \n",
    "`customer_id`  \n",
    "`order_date`  \n",
    "`total_amount`  \n",
    "`payment_method`  \n",
    "\n",
    "- Таблица `order_items` (позиции заказов) с полями:  \n",
    "`item_id`  \n",
    "`order_id`  \n",
    "`product_id`  \n",
    "`quantity`  \n",
    "`price`  \n",
    "\n",
    "- Таблица `customers` (покупатели) с полями:  \n",
    "`customer_id`  \n",
    "`customer_name`  \n",
    "`email`  \n",
    "`registration_date`  \n",
    "\n",
    "- Таблица `categories` (категории товаров):   \n",
    "`category_id`  \n",
    "`category_name`  \n",
    "\n",
    " **Наша задача:**   \n",
    " \n",
    "Написать SQL запросы для получения следующих данных из датасетов выше:  \n",
    "\n",
    "1.1. Количество уникальных пользователей за последние 30 дней.  \n",
    "1.2. Количество покупок и общая сумма продаж за последние 30 дней.  \n",
    "1.3. Средний чек и средний LTV для каждой категории продуктов.  \n",
    "1.4. Топ-5 продуктов по количеству покупок и выручке за последние 30 дней.  \n",
    "1.5. Сегментировать пользователей на группы по частоте использования продукта и\n",
    "выявить основные различия между этими группами.  \n",
    "\n",
    "**План работы:**  \n",
    "\n",
    "- создадим базу данных sqlite3 botdatabase.db;  \n",
    "- в базе данных создадим таблицы: `products`, `orders`, `order_items`, `customers`, `categories`;  \n",
    "- загрузим в созданные таблицы файлы: `products.csv`, `orders.csv`, `order_items.csv`, `customers.csv`, `categories.csv`;  \n",
    "- напишем SQL запросы для получения данных.  "
   ]
  },
  {
   "cell_type": "markdown",
   "id": "35ad767f",
   "metadata": {},
   "source": [
    "### 1. Создадим базу данных sqlite3 botdatabase.db"
   ]
  },
  {
   "cell_type": "code",
   "execution_count": 1,
   "id": "29a0e823",
   "metadata": {},
   "outputs": [],
   "source": [
    "# загрузим нужные библиотеки\n",
    "import sqlite3\n",
    "import csv\n",
    "import pandas as pd"
   ]
  },
  {
   "cell_type": "code",
   "execution_count": 2,
   "id": "f92b5056",
   "metadata": {},
   "outputs": [],
   "source": [
    "conn = sqlite3.connect('botdatabase.db')"
   ]
  },
  {
   "cell_type": "markdown",
   "id": "722ff8d6",
   "metadata": {},
   "source": [
    "### 2. В базе данных создадим таблицы: products, orders, order_items, customers, categories"
   ]
  },
  {
   "cell_type": "code",
   "execution_count": 3,
   "id": "67460974",
   "metadata": {},
   "outputs": [],
   "source": [
    "# Создаем подключение к базе данных\n",
    "conn = sqlite3.connect('botdatabase.db')\n",
    "\n",
    "# Создаем курсор для выполнения операций с базой данных\n",
    "cursor = conn.cursor()\n",
    "\n",
    "# Создаем таблицу \"products\"\n",
    "cursor.execute('''CREATE TABLE products\n",
    "                  (product_id INTEGER PRIMARY KEY,\n",
    "                   category_id INTEGER,\n",
    "                   product_name TEXT,\n",
    "                   stock INTEGER)''')\n",
    "\n",
    "# Создаем таблицу \"orders\"\n",
    "cursor.execute('''CREATE TABLE orders\n",
    "                  (order_id INTEGER PRIMARY KEY,\n",
    "                   customer_id INTEGER,\n",
    "                   order_date DATE,\n",
    "                   total_amount REAL,\n",
    "                   payment_method TEXT)''')\n",
    "\n",
    "# Создаем таблицу \"order_items\"\n",
    "cursor.execute('''CREATE TABLE order_items\n",
    "                  (item_id INTEGER PRIMARY KEY,\n",
    "                   order_id INTEGER,\n",
    "                   product_id INTEGER,\n",
    "                   quantity INTEGER,\n",
    "                   price REAL)''')\n",
    "\n",
    "# Создаем таблицу \"customers\"\n",
    "cursor.execute('''CREATE TABLE customers\n",
    "                  (customer_id INTEGER PRIMARY KEY,\n",
    "                   customer_name TEXT,\n",
    "                   email TEXT,\n",
    "                   registration_date DATE)''')\n",
    "\n",
    "# Создаем таблицу \"categories\"\n",
    "cursor.execute('''CREATE TABLE categories\n",
    "                  (category_id INTEGER PRIMARY KEY,\n",
    "                   category_name TEXT)''')\n",
    "\n",
    "# Сохраняем изменения в базе данных\n",
    "conn.commit()\n",
    "\n",
    "# Закрываем соединение с базой данных\n",
    "conn.close()"
   ]
  },
  {
   "cell_type": "markdown",
   "id": "7613689b",
   "metadata": {},
   "source": [
    "Теперь у нас есть база данных \"botdatabase.db\" и пять таблиц в ней: \"products\", \"orders\", \"order_items\", \"customers\" и \"categories\". В полях \"order_date\" и \"registration_date\" указан тип данных \"DATE\", что позволит нам хранить даты в этих полях.  Мы можем проверить, что таблицы были созданы, выполнив следующий код:   "
   ]
  },
  {
   "cell_type": "code",
   "execution_count": 4,
   "id": "04e7c3fd",
   "metadata": {},
   "outputs": [
    {
     "name": "stdout",
     "output_type": "stream",
     "text": [
      "[('products',), ('orders',), ('order_items',), ('customers',), ('categories',)]\n"
     ]
    }
   ],
   "source": [
    "# Создаем подключение к базе данных\n",
    "conn = sqlite3.connect('botdatabase.db')\n",
    "\n",
    "# Создаем курсор для выполнения операций с базой данных\n",
    "cursor = conn.cursor()\n",
    "\n",
    "# Получаем список таблиц в базе данных\n",
    "cursor.execute(\"SELECT name FROM sqlite_master WHERE type='table';\")\n",
    "print(cursor.fetchall())\n",
    "\n",
    "# Закрываем соединение с базой данных\n",
    "conn.close()"
   ]
  },
  {
   "cell_type": "markdown",
   "id": "957988c3",
   "metadata": {},
   "source": [
    "Всё ОК! Таблицы созданы."
   ]
  },
  {
   "cell_type": "markdown",
   "id": "d7708d77",
   "metadata": {},
   "source": [
    "### 3. Загрузим в созданные таблицы файлы: products.csv, orders.csv, order_items.csv, customers.csv, categories.csv"
   ]
  },
  {
   "cell_type": "markdown",
   "id": "f4cb9d11",
   "metadata": {},
   "source": [
    "#### 3.1 Загрузим в созданную таблицу `products` файл: `products.csv`"
   ]
  },
  {
   "cell_type": "code",
   "execution_count": 5,
   "id": "c92abcd4",
   "metadata": {},
   "outputs": [],
   "source": [
    "# Подключение к базе данных\n",
    "conn = sqlite3.connect('botdatabase.db')\n",
    "cursor = conn.cursor()\n",
    "# Открытие файла CSV и чтение данных\n",
    "with open('products.csv', 'r') as prfile:\n",
    "    reader = csv.reader(prfile)\n",
    "    # Пропуск заголовка\n",
    "    next(reader)\n",
    "    # Загрузка данных в таблицу\n",
    "    for row in reader:\n",
    "        cursor.execute('INSERT INTO products VALUES (?, ?, ?, ?)', row)\n",
    "# Сохранение изменений и закрытие соединения\n",
    "conn.commit()\n",
    "conn.close()"
   ]
  },
  {
   "cell_type": "markdown",
   "id": "4a7f206e",
   "metadata": {},
   "source": [
    "#### 3.2 Загрузим в созданную таблицу `orders` файл: `orders.csv`"
   ]
  },
  {
   "cell_type": "code",
   "execution_count": 6,
   "id": "3a56545a",
   "metadata": {},
   "outputs": [],
   "source": [
    "conn = sqlite3.connect('botdatabase.db')\n",
    "with open('orders.csv', 'r') as f:\n",
    "    reader = csv.reader(f)\n",
    "    next(reader)  # пропускаем заголовок\n",
    "    for row in reader:\n",
    "        conn.execute('INSERT INTO orders VALUES (?, ?, ?, ?, ?)', row)\n",
    "\n",
    "conn.commit()"
   ]
  },
  {
   "cell_type": "markdown",
   "id": "ad6d0308",
   "metadata": {},
   "source": [
    "#### 3.3 Загрузим в созданную таблицу `order_items` файл: `order_items.csv`"
   ]
  },
  {
   "cell_type": "code",
   "execution_count": 7,
   "id": "f5a1e18a",
   "metadata": {},
   "outputs": [],
   "source": [
    "# Открываем файл CSV\n",
    "with open('order_items.csv', 'r') as file:\n",
    "    # Создаем объект csv.reader\n",
    "    reader = csv.reader(file)\n",
    "    # Пропускаем заголовок\n",
    "    next(reader)\n",
    "    # Создаем подключение к базе данных\n",
    "    conn = sqlite3.connect('botdatabase.db')\n",
    "    # Создаем курсор для выполнения запросов\n",
    "    cursor = conn.cursor()\n",
    "    # Используем цикл для вставки данных в таблицу\n",
    "    for row in reader:\n",
    "        cursor.execute('INSERT INTO order_items (order_id, product_id, quantity, price) VALUES (?, ?, ?, ?)', row[1:])\n",
    "    # Сохраняем изменения\n",
    "    conn.commit()\n",
    "    # Закрываем соединение\n",
    "    conn.close()"
   ]
  },
  {
   "cell_type": "markdown",
   "id": "9e8d7f51",
   "metadata": {},
   "source": [
    "#### 3.4 Загрузим в созданную таблицу `customers` файл: `customers.csv`"
   ]
  },
  {
   "cell_type": "code",
   "execution_count": 8,
   "id": "49f921bc",
   "metadata": {},
   "outputs": [],
   "source": [
    "# Открываем CSV-файл и загружаем данные в таблицу customers\n",
    "with open('customers.csv', 'r') as csvfile:\n",
    "    reader = csv.reader(csvfile)\n",
    "    next(reader)  # пропускаем заголовок\n",
    "     # Создаем подключение к базе данных\n",
    "    conn = sqlite3.connect('botdatabase.db')\n",
    "    # Создаем курсор для выполнения запросов\n",
    "    cursor = conn.cursor()\n",
    "    for row in reader:\n",
    "        cursor.execute('''INSERT INTO customers\n",
    "                          (customer_id, customer_name, email, registration_date)\n",
    "                          VALUES (?, ?, ?, ?)''', row)\n",
    "\n",
    "# Сохраняем изменения и закрываем соединение с базой данных\n",
    "conn.commit()\n",
    "conn.close()"
   ]
  },
  {
   "cell_type": "markdown",
   "id": "1a7af31e",
   "metadata": {},
   "source": [
    "#### 3.5 Загрузим в созданную таблицу `categories` файл: `categories.csv`"
   ]
  },
  {
   "cell_type": "code",
   "execution_count": 9,
   "id": "e7f16065",
   "metadata": {},
   "outputs": [],
   "source": [
    "# Открываем CSV-файл и загружаем данные в таблицу\n",
    "with open('categories.csv', 'r') as ctfile:\n",
    "    reader = csv.reader(ctfile)\n",
    "    next(reader)  # пропускаем заголовок\n",
    "    # Создаем подключение к базе данных\n",
    "    conn = sqlite3.connect('botdatabase.db')\n",
    "    # Создаем курсор для выполнения запросов\n",
    "    cursor = conn.cursor()\n",
    "    for row in reader:\n",
    "        cursor.execute('INSERT INTO categories (category_id, category_name) VALUES (?, ?)', row)\n",
    "\n",
    "# Сохраняем изменения и закрываем соединение\n",
    "conn.commit()\n",
    "conn.close()"
   ]
  },
  {
   "cell_type": "markdown",
   "id": "e11b683d",
   "metadata": {},
   "source": [
    "Теперь мы можем написать SQL запросы для получения нужных данных."
   ]
  },
  {
   "cell_type": "markdown",
   "id": "c8bdc8fa",
   "metadata": {},
   "source": [
    "### 4. Напишем SQL запросы для получения данных"
   ]
  },
  {
   "cell_type": "markdown",
   "id": "43e44c5b",
   "metadata": {},
   "source": [
    "#### 4.1  Количество уникальных пользователей за последние 30 дней."
   ]
  },
  {
   "cell_type": "code",
   "execution_count": 10,
   "id": "496749f9",
   "metadata": {},
   "outputs": [
    {
     "name": "stdout",
     "output_type": "stream",
     "text": [
      "(3,)\n"
     ]
    }
   ],
   "source": [
    "# подключаемся к базе данных SQLite botdatabase.db.\n",
    "conn = sqlite3.connect('botdatabase.db')\n",
    "cursor = conn.cursor()\n",
    "# выполняем запрос на выборку всех данных из таблицы\n",
    "cursor.execute(\"SELECT COUNT(DISTINCT customer_id) FROM orders WHERE order_date >= date('now', '-30 days')\")\n",
    "\n",
    "# получаем все данные из таблицы\n",
    "rows = cursor.fetchall()\n",
    "\n",
    "# выводим данные на экран\n",
    "for row in rows:\n",
    "    print(row)\n",
    "\n",
    "# закрываем соединение с базой данных\n",
    "conn.close()"
   ]
  },
  {
   "cell_type": "markdown",
   "id": "07540353",
   "metadata": {},
   "source": [
    "#### 4.2 Количество покупок и общая сумма продаж за последние 30 дней."
   ]
  },
  {
   "cell_type": "code",
   "execution_count": 11,
   "id": "a0422fef",
   "metadata": {},
   "outputs": [
    {
     "name": "stdout",
     "output_type": "stream",
     "text": [
      "(4, 500.0)\n"
     ]
    }
   ],
   "source": [
    "# подключаемся к базе данных SQLite botdatabase.db\n",
    "conn = sqlite3.connect('botdatabase.db')\n",
    "cursor = conn.cursor()\n",
    "# выполняем запрос на выборку всех данных из таблицы\n",
    "cursor.execute(\"SELECT COUNT(*) AS num_orders, SUM(total_amount) AS total_sales FROM orders WHERE order_date >= date('now', '-30 days')\")\n",
    "\n",
    "# получаем все данные из таблицы\n",
    "rows = cursor.fetchall()\n",
    "\n",
    "# выводим данные на экран\n",
    "for row in rows:\n",
    "    print(row)\n",
    "\n",
    "# закрываем соединение с базой данных\n",
    "conn.close()"
   ]
  },
  {
   "cell_type": "markdown",
   "id": "627f829a",
   "metadata": {},
   "source": [
    "#### 4.3  Средний чек и средний LTV для каждой категории продуктов."
   ]
  },
  {
   "cell_type": "code",
   "execution_count": 12,
   "id": "a8ab86ff",
   "metadata": {},
   "outputs": [
    {
     "name": "stdout",
     "output_type": "stream",
     "text": [
      "('Apparel', 150.0, 150.0)\n",
      "('Electronics', 150.0, 150.0)\n",
      "('Home Goods', 50.0, 50.0)\n"
     ]
    }
   ],
   "source": [
    "# подключаемся к базе данных SQLite botdatabase.db\n",
    "conn = sqlite3.connect('botdatabase.db')\n",
    "cursor = conn.cursor()\n",
    "# выполняем запрос на выборку всех данных из таблицы\n",
    "cursor.execute(\"SELECT c.category_name, AVG(o.total_amount) AS avg_order_value, AVG(o.total_amount / (SELECT COUNT(DISTINCT customer_id) FROM orders WHERE customer_id = o.customer_id)) AS avg_ltv FROM orders o JOIN order_items oi ON o.order_id = oi.order_id JOIN products p ON oi.product_id = p.product_id JOIN categories c ON p.category_id = c.category_id GROUP BY c.category_name\")\n",
    "\n",
    "# получаем все данные из таблицы\n",
    "rows = cursor.fetchall()\n",
    "\n",
    "# выводим данные на экран\n",
    "for row in rows:\n",
    "    print(row)\n",
    "\n",
    "# закрываем соединение с базой данных\n",
    "conn.close()"
   ]
  },
  {
   "cell_type": "markdown",
   "id": "88a9c0ab",
   "metadata": {},
   "source": [
    "#### 4.4 Топ-5 продуктов по количеству покупок и выручке за последние 30 дней."
   ]
  },
  {
   "cell_type": "code",
   "execution_count": 13,
   "id": "08e967f9",
   "metadata": {},
   "outputs": [
    {
     "name": "stdout",
     "output_type": "stream",
     "text": [
      "('Product C', 4, 200.0)\n",
      "('Product B', 3, 150.0)\n",
      "('Product A', 2, 100.0)\n",
      "('Product D', 1, 50.0)\n"
     ]
    }
   ],
   "source": [
    "# подключаемся к базе данных SQLite botdatabase.db\n",
    "conn = sqlite3.connect('botdatabase.db')\n",
    "cursor = conn.cursor()\n",
    "# выполняем запрос на выборку всех данных из таблицы\n",
    "cursor.execute(\"SELECT p.product_name, SUM(oi.quantity) AS num_purchases, SUM(oi.quantity * oi.price) AS total_revenue FROM orders o JOIN order_items oi ON o.order_id = oi.order_id JOIN products p ON oi.product_id = p.product_id WHERE o.order_date >= date('now', '-30 days') GROUP BY p.product_name ORDER BY num_purchases DESC, total_revenue DESC LIMIT 5\")\n",
    "\n",
    "# получаем все данные из таблицы\n",
    "rows = cursor.fetchall()\n",
    "\n",
    "# выводим данные на экран\n",
    "for row in rows:\n",
    "    print(row)\n",
    "\n",
    "# закрываем соединение с базой данных\n",
    "conn.close()"
   ]
  },
  {
   "cell_type": "code",
   "execution_count": null,
   "id": "76f7c5e5",
   "metadata": {},
   "outputs": [],
   "source": []
  }
 ],
 "metadata": {
  "kernelspec": {
   "display_name": "Python 3 (ipykernel)",
   "language": "python",
   "name": "python3"
  },
  "language_info": {
   "codemirror_mode": {
    "name": "ipython",
    "version": 3
   },
   "file_extension": ".py",
   "mimetype": "text/x-python",
   "name": "python",
   "nbconvert_exporter": "python",
   "pygments_lexer": "ipython3",
   "version": "3.10.9"
  }
 },
 "nbformat": 4,
 "nbformat_minor": 5
}
